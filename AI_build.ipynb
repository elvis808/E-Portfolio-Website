{
  "nbformat": 4,
  "nbformat_minor": 0,
  "metadata": {
    "colab": {
      "name": "AI-build.ipynb",
      "provenance": [],
      "authorship_tag": "ABX9TyM5WN7FgSpacISd8KusFFBy",
      "include_colab_link": true
    },
    "kernelspec": {
      "name": "python3",
      "display_name": "Python 3"
    },
    "language_info": {
      "name": "python"
    }
  },
  "cells": [
    {
      "cell_type": "markdown",
      "metadata": {
        "id": "view-in-github",
        "colab_type": "text"
      },
      "source": [
        "<a href=\"https://colab.research.google.com/github/elvis808/E-Portfolio-Website/blob/master/AI_build.ipynb\" target=\"_parent\"><img src=\"https://colab.research.google.com/assets/colab-badge.svg\" alt=\"Open In Colab\"/></a>"
      ]
    },
    {
      "cell_type": "code",
      "execution_count": 1,
      "metadata": {
        "id": "TOr1-wju-TVU"
      },
      "outputs": [],
      "source": [
        "import pandas as pd \n",
        "\n",
        "dataset = pd.read_csv('diabetes.csv')"
      ]
    },
    {
      "cell_type": "markdown",
      "source": [
        "It wasn't mentioned in the dataset but 1 is equivalent to those who have diabetes and 0 are for those who don't have it.\n"
      ],
      "metadata": {
        "id": "RRCyC9F8Spgz"
      }
    },
    {
      "cell_type": "code",
      "source": [
        "x = dataset.drop(columns=[\"Outcome\"])"
      ],
      "metadata": {
        "id": "G7jpO3waEwUk"
      },
      "execution_count": 2,
      "outputs": []
    },
    {
      "cell_type": "markdown",
      "source": [
        "All of the dataset features. The AI will parse through the data to predict whether or not a person of x age has diabetes or not."
      ],
      "metadata": {
        "id": "1rvs-BIWS98W"
      }
    },
    {
      "cell_type": "code",
      "source": [
        "y = dataset[\"Outcome\"]"
      ],
      "metadata": {
        "id": "r9EjDyQYFUJP"
      },
      "execution_count": 3,
      "outputs": []
    },
    {
      "cell_type": "markdown",
      "source": [
        "Measures if people who do or don't have diabetes with the indicator of a 1 or 0."
      ],
      "metadata": {
        "id": "UnTNXqaYTBNa"
      }
    },
    {
      "cell_type": "code",
      "source": [
        "from sklearn.model_selection import train_test_split\n",
        "\n",
        "x_train, x_test, y_train, y_test = train_test_split(x, y, test_size=0.2)"
      ],
      "metadata": {
        "id": "rVanmnYRFkCY"
      },
      "execution_count": 4,
      "outputs": []
    },
    {
      "cell_type": "markdown",
      "source": [
        "Performs a test both x and y and divides both 20% and 80%."
      ],
      "metadata": {
        "id": "zLjJazbNil4e"
      }
    },
    {
      "cell_type": "code",
      "source": [
        "import tensorflow as tf\n",
        "\n",
        "model = tf.keras.models.Sequential()"
      ],
      "metadata": {
        "id": "-AY315ZwGgBt"
      },
      "execution_count": 11,
      "outputs": []
    },
    {
      "cell_type": "code",
      "source": [
        "model.add(tf.keras.layers.Dense(256, input_shape=(x_train.shape[1],), activation='sigmoid'))\n",
        "model.add(tf.keras.layers.Dense(256, activation='sigmoid'))\n",
        "model.add(tf.keras.layers.Dense(1, activation='sigmoid'))"
      ],
      "metadata": {
        "id": "3168mIoJG4vo"
      },
      "execution_count": 6,
      "outputs": []
    },
    {
      "cell_type": "markdown",
      "source": [
        "This section addds layers to the module for the neural network.\n",
        "\n",
        "input layer: x attributes of the data sets.\n",
        "hidden layer: which the input layer goes through.\n",
        "output layer: This determines if the patients have diabetes or not. \n",
        "\n",
        "- The use of the 'sigmoid' function; takes all the values from the neural network and plotting them between 0 & 1.\n",
        "\n",
        "https://deepai.org/machine-learning-glossary-and-terms/sigmoid-function\n",
        "\n",
        "- Was suposed to get a more accurate reading but more data is needed to get a more indepth reading. "
      ],
      "metadata": {
        "id": "-LlDsFJAi4Xm"
      }
    },
    {
      "cell_type": "code",
      "source": [
        "model.compile(optimizer='adam', loss='binary_crossentropy', metrics=['accuracy'])"
      ],
      "metadata": {
        "id": "h4y9i7CsIIFA"
      },
      "execution_count": 7,
      "outputs": []
    },
    {
      "cell_type": "markdown",
      "source": [
        "This step is figuring out how the ML algorithm is being optimized. \n",
        "\n",
        "- The neurons or the weight of the neurons are being fine tuned to correctly fit the data."
      ],
      "metadata": {
        "id": "MfCmBBrXk4tF"
      }
    },
    {
      "cell_type": "code",
      "source": [
        "model.fit(x_train, y_train, epochs=1000)"
      ],
      "metadata": {
        "id": "XJRjcneePqwp"
      },
      "execution_count": null,
      "outputs": []
    },
    {
      "cell_type": "markdown",
      "source": [
        "- 1000 is a bit overkill, but just wanted to add more just to be safe. "
      ],
      "metadata": {
        "id": "Vcscxvgsjofy"
      }
    },
    {
      "cell_type": "code",
      "source": [
        "model.evaluate(x_test, y_test)"
      ],
      "metadata": {
        "colab": {
          "base_uri": "https://localhost:8080/"
        },
        "id": "ABq8ayidP1L5",
        "outputId": "38026dd5-212a-4854-cdd7-675fc1d326a8"
      },
      "execution_count": 10,
      "outputs": [
        {
          "output_type": "stream",
          "name": "stdout",
          "text": [
            "5/5 [==============================] - 0s 4ms/step - loss: 2.0580 - accuracy: 0.6688\n"
          ]
        },
        {
          "output_type": "execute_result",
          "data": {
            "text/plain": [
              "[2.0580127239227295, 0.6688311696052551]"
            ]
          },
          "metadata": {},
          "execution_count": 10
        }
      ]
    },
    {
      "cell_type": "markdown",
      "source": [
        "This code implemented Artificial Intelligence to calculate those who do and don't have diabetes. The accuracy isn't the greatest but more data is required to measure the accuracy the data. First time learning about Neural Networks work, machine learning principles with Keras & scikit-learn. \n"
      ],
      "metadata": {
        "id": "cDNdOHHeRkYo"
      }
    }
  ]
}